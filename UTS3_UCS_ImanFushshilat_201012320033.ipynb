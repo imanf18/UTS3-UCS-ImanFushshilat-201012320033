{
  "nbformat": 4,
  "nbformat_minor": 0,
  "metadata": {
    "colab": {
      "provenance": [],
      "authorship_tag": "ABX9TyMaPOXLxsIx4V7vJYrL0hrb",
      "include_colab_link": true
    },
    "kernelspec": {
      "name": "python3",
      "display_name": "Python 3"
    },
    "language_info": {
      "name": "python"
    }
  },
  "cells": [
    {
      "cell_type": "markdown",
      "metadata": {
        "id": "view-in-github",
        "colab_type": "text"
      },
      "source": [
        "<a href=\"https://colab.research.google.com/github/imanf18/UTS3-UCS-ImanFushshilat-201012320033/blob/main/UTS3_UCS_ImanFushshilat_201012320033.ipynb\" target=\"_parent\"><img src=\"https://colab.research.google.com/assets/colab-badge.svg\" alt=\"Open In Colab\"/></a>"
      ]
    },
    {
      "cell_type": "code",
      "execution_count": null,
      "metadata": {
        "id": "ZoOuV1OXuARs"
      },
      "outputs": [],
      "source": []
    },
    {
      "cell_type": "code",
      "source": [
        "from queue import PriorityQueue\n",
        "def uniform_cost_search(graph, start, goal):\n",
        "    visited = set()  # set of visited nodes\n",
        "    frontier = PriorityQueue()  # priority queue for nodes to explore\n",
        "    frontier.put((0, start))  # (priority, node) tuple, priority is the cost\n",
        "    came_from = {}  # dictionary to store the path\n",
        "\n",
        "    # Initialize the cost of reaching start node to 0\n",
        "    cost_so_far = {start: 0}\n",
        "\n",
        "    while not frontier.empty():\n",
        "        current_cost, current_node = frontier.get()\n",
        "\n",
        "        if current_node == goal:\n",
        "            # Reached the goal node\n",
        "            break\n",
        "\n",
        "        visited.add(current_node)\n",
        "\n",
        "        for next_node, edge_cost in graph[current_node].items():\n",
        "            new_cost = cost_so_far[current_node] + edge_cost\n",
        "\n",
        "            if next_node not in cost_so_far or new_cost < cost_so_far[next_node]:\n",
        "                cost_so_far[next_node] = new_cost\n",
        "                priority = new_cost\n",
        "                frontier.put((priority, next_node))\n",
        "                came_from[next_node] = current_node\n",
        "\n",
        "    # Reconstruct the path from start to goal\n",
        "    path = []\n",
        "    total_cost = 0\n",
        "    if goal in came_from:\n",
        "        current = goal\n",
        "        while current != start:\n",
        "            path.append(current)\n",
        "            total_cost += graph[came_from[current]][current]\n",
        "            current = came_from[current]\n",
        "        path.append(start)\n",
        "        path.reverse()\n",
        "\n",
        "    return path, total_cost\n",
        "\n",
        "# Graph representation of the Romanian Map\n",
        "graph = {\n",
        "    '#2': {'#5': 75, '#3': 118, '#4': 140}, #Arad\n",
        "    '#5': {'#2': 75, '#1': 71}, #Zerind\n",
        "    '#3': {'#2': 118, '#6': 111}, #Timisoara\n",
        "    '#4': {'#2': 140, '#1': 151, '#13': 99, '#9': 80}, #Sibiu\n",
        "    '#1': {'#5': 71, '#4': 151}, #Oradea\n",
        "    '#6': {'#3': 111, '#7': 70}, #Lugoj\n",
        "    '#13': {'#4': 99, '#ABC': 211}, #Fagaras\n",
        "    '#9': {'#4': 80, '#12': 97, '#11': 146}, #Rimnicu Vilcea\n",
        "    '#7': {'#6': 70, '#8': 75}, #Mehadia\n",
        "    '#8': {'#7': 75, '#11': 120},#Drobeta\n",
        "    '#12': {'#9': 97, '#11': 138, '#ABC': 101}, #Pitesti\n",
        "    '#11': {'#9': 146, '#12': 138, '#8': 120}, #Craiova\n",
        "    '#ABC': {'#13': 211, '#12': 101, '#I': 90, '#J': 85}, #Bucharest\n",
        "    '#I': {'#ABC': 90}, #Giurgiu\n",
        "    '#J': {'#ABC': 85, '#H': 142, '#F': 98}, #Urziceni\n",
        "    '#H': {'#J': 142, '#C': 92}, #Vaslui\n",
        "    '#F': {'#J': 98, '#E': 86}, #Hirsova\n",
        "    '#C': {'#H': 92, '#B': 87}, #Iasi\n",
        "    '#B': {'#C': 87}, #Neamt\n",
        "    '#E': {'#F': 86} #Eforie\n",
        "}\n",
        "\n",
        "start_node = '#C'\n",
        "goal_node = '#3'\n",
        "result, total_cost = uniform_cost_search(graph, start_node, goal_node)\n",
        "print (\"Start State : \" , start_node , \"\\nTarget State : \" ,goal_node)\n",
        "print(\"Path:\", result)\n",
        "print(\"Total Cost:\", total_cost)"
      ],
      "metadata": {
        "id": "SWovIqk0oHzh",
        "outputId": "f92d45ee-da6e-4c1c-9199-6978e7ac67f4",
        "colab": {
          "base_uri": "https://localhost:8080/"
        }
      },
      "execution_count": 2,
      "outputs": [
        {
          "output_type": "stream",
          "name": "stdout",
          "text": [
            "Start State :  #C \n",
            "Target State :  #3\n",
            "Path: ['#C', '#H', '#J', '#ABC', '#12', '#9', '#4', '#2', '#3']\n",
            "Total Cost: 855\n"
          ]
        }
      ]
    }
  ]
}